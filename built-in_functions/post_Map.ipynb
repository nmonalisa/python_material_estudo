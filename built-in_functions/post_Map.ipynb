{
 "cells": [
  {
   "cell_type": "markdown",
   "metadata": {
    "id": "LqArBMpOPWuK"
   },
   "source": [
    "#### FUNÇÃO MAP"
   ]
  },
  {
   "cell_type": "markdown",
   "metadata": {
    "id": "h7lbqYuyPcEn"
   },
   "source": [
    "A função map é usada quando queremos aplicar uma determinada função em cada um dos elementos de uma ou mais sequências. Ou seja, map recebe uma outra função que admite pelo menos uma entrada como primeiro argumento, além de uma ou mais sequências. E durante a iteração, cada elemento da sequência será passado como parâmetro dessa função de retorno. Confuso?Se sim, calma!Vamos ao exemplo: **calcular o quadrado de uma lista de números**:\n",
    "\n",
    "\n"
   ]
  },
  {
   "cell_type": "code",
   "execution_count": 39,
   "metadata": {
    "colab": {
     "base_uri": "https://localhost:8080/"
    },
    "id": "aSRYzqwDBQmk",
    "outputId": "5dac0640-40f9-41ba-ac94-a22dbbbe35a0"
   },
   "outputs": [
    {
     "data": {
      "text/plain": [
       "16"
      ]
     },
     "execution_count": 39,
     "metadata": {
      "tags": []
     },
     "output_type": "execute_result"
    }
   ],
   "source": [
    "# Passo 1: definir a sequência de números\n",
    "numeros = [1,2,3,4,5]\n",
    "\n",
    "# Passo2: definir uma função qualquer que recebe um número n e retorna o seu quadrado n**2:\n",
    "def calcular_quadrado(n): \n",
    "  return n**2\n",
    "  \n",
    "# Passo3: testando a função para valores únicos:\n",
    "calcular_quadrado(4)"
   ]
  },
  {
   "cell_type": "markdown",
   "metadata": {
    "id": "nTg83yPDTWqM"
   },
   "source": [
    "Agora usando a função map para calcular o quadrado de todos os números da nossa sequência passando a nossa função calcularQuadrado como argumento:"
   ]
  },
  {
   "cell_type": "code",
   "execution_count": 40,
   "metadata": {
    "colab": {
     "base_uri": "https://localhost:8080/"
    },
    "id": "JXzYfl4sRtTA",
    "outputId": "efc8ecc2-b65b-4195-e4a7-cdf0bcb98b28"
   },
   "outputs": [
    {
     "data": {
      "text/plain": [
       "<map at 0x7f57f3e46a90>"
      ]
     },
     "execution_count": 40,
     "metadata": {
      "tags": []
     },
     "output_type": "execute_result"
    }
   ],
   "source": [
    "quadrados = map(calcular_quadrado, numeros)\n",
    "quadrados #ué?!"
   ]
  },
  {
   "cell_type": "markdown",
   "metadata": {
    "id": "zXPQLVJGTnP7"
   },
   "source": [
    "Ops!Algo de errado não está certo com esse resultado! :p\n",
    "\n",
    "O retorno da função map é um objeto map iterador. Nesse caso, se quisermos tornar o resultado legível e interpretável para nós, podemos passar o objeto à função list() para obter uma lista. Também seria possível utilizar outro tipo de sequência que não as listas, como tuplas.\n"
   ]
  },
  {
   "cell_type": "code",
   "execution_count": 36,
   "metadata": {
    "colab": {
     "base_uri": "https://localhost:8080/"
    },
    "id": "AvdJ0zSXTk8F",
    "outputId": "d6fdeccf-811b-4301-ef9a-30f4ecad65e1"
   },
   "outputs": [
    {
     "data": {
      "text/plain": [
       "[1, 4, 9, 16, 25]"
      ]
     },
     "execution_count": 36,
     "metadata": {
      "tags": []
     },
     "output_type": "execute_result"
    }
   ],
   "source": [
    "list(quadrados)"
   ]
  },
  {
   "cell_type": "markdown",
   "metadata": {
    "id": "e_FmuLqLUsQL"
   },
   "source": [
    "Repare que a sequência original não sofre nenhuma alteração:"
   ]
  },
  {
   "cell_type": "code",
   "execution_count": 37,
   "metadata": {
    "colab": {
     "base_uri": "https://localhost:8080/"
    },
    "id": "3DOFk4NBU2uk",
    "outputId": "e53ba7f8-3a5d-47b2-bec9-634747ebdb3c"
   },
   "outputs": [
    {
     "data": {
      "text/plain": [
       "[1, 2, 3, 4, 5]"
      ]
     },
     "execution_count": 37,
     "metadata": {
      "tags": []
     },
     "output_type": "execute_result"
    }
   ],
   "source": [
    "numeros"
   ]
  },
  {
   "cell_type": "markdown",
   "metadata": {
    "id": "YcXrtjWKVisU"
   },
   "source": [
    "Também podemos usar a função map em conjunto com funções lambda (funções inline) quando estamos lidando com expressões simples. Assim, eliminamos a necessidade de definir uma função isolada que calcula o quadrado dos números e economizamos algumas linhas de código. O resultado do nosso cálculo de quadrados poderia ser obtido da mesma forma:"
   ]
  },
  {
   "cell_type": "code",
   "execution_count": 38,
   "metadata": {
    "colab": {
     "base_uri": "https://localhost:8080/"
    },
    "id": "bYfwyxKUVT2l",
    "outputId": "dc38bce1-83a1-496c-fa17-8ffc7862a6a1"
   },
   "outputs": [
    {
     "data": {
      "text/plain": [
       "[1, 4, 9, 16, 25]"
      ]
     },
     "execution_count": 38,
     "metadata": {
      "tags": []
     },
     "output_type": "execute_result"
    }
   ],
   "source": [
    "quadrados_lambda = map(lambda n:n**2, numeros)\n",
    "list(quadrados_lambda)"
   ]
  },
  {
   "cell_type": "markdown",
   "metadata": {
    "id": "yEyVqKU8vAij"
   },
   "source": [
    "Por fim, mas não menos importante, podemos utilizar mais de uma sequência como argumento para a função map. Você pode usar quantas sequências quiser, e usar um parâmetro para cada na função que será aplicada. Por exemplo, vamos aplicar uma função que retorna a soma de dois números. E obteremos esses dois números de listas diferentes. "
   ]
  },
  {
   "cell_type": "code",
   "execution_count": 43,
   "metadata": {
    "colab": {
     "base_uri": "https://localhost:8080/"
    },
    "id": "FOZ1V-T8vLGi",
    "outputId": "e50bb674-14c3-4eed-9de6-ad1ce3ebacc4"
   },
   "outputs": [
    {
     "data": {
      "text/plain": [
       "[3, 7, 11, 15, 19]"
      ]
     },
     "execution_count": 43,
     "metadata": {
      "tags": []
     },
     "output_type": "execute_result"
    }
   ],
   "source": [
    "n_par = [2,4,6,8,10]\n",
    "n_impar = [1,3,5,7,9]\n",
    "\n",
    "soma = map(lambda x,y:x+y, n_par, n_impar)\n",
    "list(soma)"
   ]
  },
  {
   "cell_type": "markdown",
   "metadata": {
    "id": "Zk2e9DrAuwHl"
   },
   "source": [
    "É isso!Espero que seja útil! :)"
   ]
  },
  {
   "cell_type": "markdown",
   "metadata": {},
   "source": [
    "#### Referências:\n",
    "1. Livro \"Python para Análise de Dados - Tratamento de dados com Pandas, Numpy e IPhyton\" (Wes McKinney)\n",
    "2. Site Python Help: https://pythonhelp.wordpress.com/2012/05/13/map-reduce-filter-e-lambda/\n",
    "3. Site Digital Ocean: https://www.digitalocean.com/community/tutorials/how-to-use-the-python-map-function-pt"
   ]
  }
 ],
 "metadata": {
  "colab": {
   "name": "map.ipynb",
   "provenance": []
  },
  "kernelspec": {
   "display_name": "Python 3",
   "language": "python",
   "name": "python3"
  },
  "language_info": {
   "codemirror_mode": {
    "name": "ipython",
    "version": 3
   },
   "file_extension": ".py",
   "mimetype": "text/x-python",
   "name": "python",
   "nbconvert_exporter": "python",
   "pygments_lexer": "ipython3",
   "version": "3.8.8"
  }
 },
 "nbformat": 4,
 "nbformat_minor": 1
}
