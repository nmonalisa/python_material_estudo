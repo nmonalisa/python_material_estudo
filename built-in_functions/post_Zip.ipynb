{
 "cells": [
  {
   "cell_type": "markdown",
   "metadata": {
    "id": "iBTWaq17zZPQ"
   },
   "source": [
    "### FUNÇÃO ZIP\n"
   ]
  },
  {
   "cell_type": "markdown",
   "metadata": {
    "id": "mTLwkS89zQpA"
   },
   "source": [
    "**Zip:**  esta função \"pareia\" os elementos de duas ou mais sequências. O retorno é uma sequência de tuplas, onde cada uma delas contém os elementos de posição i de cada uma das diferentes sequências. Uhn, confuso? Calma, xovem! O que eu quero dizer é se eu fizer o zip de duas listas, teremos tuplas com o pareamento do primeiro elemento da sequência 1 com o primeiro elemento da sequência 2, o segundo elemento da sequência 1 com o segundo elemento da sequência 2, etc. Veja abaixo:"
   ]
  },
  {
   "cell_type": "code",
   "execution_count": 1,
   "metadata": {
    "colab": {
     "base_uri": "https://localhost:8080/"
    },
    "id": "rEgg2i51AftG",
    "outputId": "c45f6904-b3ae-4e83-8727-d4dc9cf0bcf1"
   },
   "outputs": [
    {
     "data": {
      "text/plain": [
       "[(1, 'a'), (2, 'b'), (3, 'c'), (4, 'd')]"
      ]
     },
     "execution_count": 1,
     "metadata": {},
     "output_type": "execute_result"
    }
   ],
   "source": [
    "# Zip com listas\n",
    "numeros = [1,2,3,4]\n",
    "letras = [\"a\", \"b\", \"c\", \"d\"]\n",
    "zipado = zip(numeros,letras)\n",
    "list(zipado)"
   ]
  },
  {
   "cell_type": "markdown",
   "metadata": {
    "id": "mbXwp6ylz3q-"
   },
   "source": [
    "Já se usarmos usar o zip com dicionários, teremos o pareamento dos elementos pela chave:"
   ]
  },
  {
   "cell_type": "code",
   "execution_count": 2,
   "metadata": {
    "colab": {
     "base_uri": "https://localhost:8080/"
    },
    "id": "yJYi4MjUnzRK",
    "outputId": "56dbbc8a-7aae-43a4-c922-1ab10834eee5"
   },
   "outputs": [
    {
     "data": {
      "text/plain": [
       "[(1, 3), (2, 4)]"
      ]
     },
     "execution_count": 2,
     "metadata": {},
     "output_type": "execute_result"
    }
   ],
   "source": [
    "# Zip com dicionários - pareamento padrão: pelas chaves\n",
    "dic1 = {1:\"a\", 2:\"b\"}\n",
    "dic2 = {3:\"c\", 4:\"d\"}\n",
    "zipado_dic = zip(dic1,dic2)\n",
    "list(zipado_dic)"
   ]
  },
  {
   "cell_type": "markdown",
   "metadata": {
    "id": "rw9Z-YYQ0HWD"
   },
   "source": [
    "Porém, se quisermos o pareamento pelos valores dos dicionários, podemos usar o método values como parâmetro da função zip:"
   ]
  },
  {
   "cell_type": "code",
   "execution_count": 3,
   "metadata": {
    "colab": {
     "base_uri": "https://localhost:8080/"
    },
    "id": "XcrXDU7copRT",
    "outputId": "29f2cddb-3bd3-4468-b9ee-ec47cd973be2"
   },
   "outputs": [
    {
     "data": {
      "text/plain": [
       "[('a', 'c'), ('b', 'd')]"
      ]
     },
     "execution_count": 3,
     "metadata": {},
     "output_type": "execute_result"
    }
   ],
   "source": [
    "# Zip com dicionários - pareamento pelos valores\n",
    "zipado_val = zip(dic1.values(), dic2.values())\n",
    "list(zipado_val)"
   ]
  },
  {
   "cell_type": "markdown",
   "metadata": {
    "id": "OqF4FUji0xLn"
   },
   "source": [
    "Se tivermos sequências com números diferentes de elementos em cada uma delas, as combinações ocorrerá em função da sequência de menor tamanho. Os demais valores das sequências maiores serão ignorados. Exemplo:"
   ]
  },
  {
   "cell_type": "code",
   "execution_count": 4,
   "metadata": {
    "colab": {
     "base_uri": "https://localhost:8080/"
    },
    "id": "Adztfly3pb_u",
    "outputId": "1419e4f7-0ee4-45a7-b456-f5a2753b1646"
   },
   "outputs": [
    {
     "data": {
      "text/plain": [
       "[(1, 3), (2, 4)]"
      ]
     },
     "execution_count": 4,
     "metadata": {},
     "output_type": "execute_result"
    }
   ],
   "source": [
    "# Sequências com tamanhos diferentes\n",
    "a = [1,2]\n",
    "b = [3,4,5,6,7,8, 9, 10]\n",
    "zipado_N = zip(a,b)\n",
    "list(zipado_N)"
   ]
  },
  {
   "cell_type": "markdown",
   "metadata": {
    "id": "S_NUGL911Tdh"
   },
   "source": [
    "Também é possível realizar o procedimento contrário. Ou seja, desparear conjuntos de elementos combinados em uma sequência de tuplas para extrair listas individualizadas. Para isso usamos zip(*sequência zipada)"
   ]
  },
  {
   "cell_type": "code",
   "execution_count": 5,
   "metadata": {
    "colab": {
     "base_uri": "https://localhost:8080/"
    },
    "id": "03B94J53yy9K",
    "outputId": "eb9975ea-3b27-493a-f96f-a2b06933b3dc"
   },
   "outputs": [
    {
     "name": "stdout",
     "output_type": "stream",
     "text": [
      "(1, 2, 3, 4) ('a', 'b', 'c', 'd')\n"
     ]
    }
   ],
   "source": [
    "# \"Dezipando\" sequências com zip *:\n",
    "numeros = [1,2,3,4]\n",
    "letras = [\"a\", \"b\", \"c\", \"d\"]\n",
    "zipado = zip(numeros,letras) # [(1, 'a'), (2, 'b'), (3, 'c'), (4, 'd')]\n",
    "\n",
    "#Extraindo as duas sequências novamente:\n",
    "n,l = list(zip(*zipado))\n",
    "print(n,l)"
   ]
  },
  {
   "cell_type": "markdown",
   "metadata": {
    "id": "9w8AYVB62Zim"
   },
   "source": [
    "Agora, praticando a aplicação do método zip() com algunsexemplos um pouco mais reais:\n",
    "\n",
    "- 1.Invertendo as chaves e os valores de um dicionário\n",
    "- 2.Trocar valores entre 2 dicionários\n",
    "- 3.Composição de strings com valores que estão em listas diferentes"
   ]
  },
  {
   "cell_type": "code",
   "execution_count": 6,
   "metadata": {
    "colab": {
     "base_uri": "https://localhost:8080/"
    },
    "id": "5V7HNBn6rGMd",
    "outputId": "4a070199-541b-4b1e-f522-9bf4049d5e7d"
   },
   "outputs": [
    {
     "name": "stdout",
     "output_type": "stream",
     "text": [
      "[(1, 'Bob Marley'), (2, 'Roberto Carlos'), (3, 'Xuxa'), (4, 'Anitta')]\n"
     ]
    }
   ],
   "source": [
    "# 1.Inverter um dicionário\n",
    "nome_codigo = {\n",
    "    \"Bob Marley\": 1,\n",
    "    \"Roberto Carlos\": 2,\n",
    "    \"Xuxa\": 3,\n",
    "    \"Anitta\": 4\n",
    "}\n",
    "\n",
    "codigo_nome = zip(nome_codigo.values(), nome_codigo.keys())\n",
    "print(list(codigo_nome))"
   ]
  },
  {
   "cell_type": "markdown",
   "metadata": {
    "id": "PmYJ1nUvvR0k"
   },
   "source": [
    "Porém, o retorno será uma sequência de tuplas, como eu disse acima. Se quiser voltar à estrutura original de dicionário, basta fazer a conversão usando o método dict():"
   ]
  },
  {
   "cell_type": "code",
   "execution_count": 7,
   "metadata": {
    "colab": {
     "base_uri": "https://localhost:8080/"
    },
    "id": "3-YVqavyvaqV",
    "outputId": "0a797675-f138-46c4-ea29-b42417da7f6b"
   },
   "outputs": [
    {
     "name": "stdout",
     "output_type": "stream",
     "text": [
      "{1: 'Bob Marley', 2: 'Roberto Carlos', 3: 'Xuxa', 4: 'Anitta'}\n"
     ]
    }
   ],
   "source": [
    "codigo_nome = dict(zip(nome_codigo.values(), nome_codigo.keys()))\n",
    "print(codigo_nome)"
   ]
  },
  {
   "cell_type": "code",
   "execution_count": 8,
   "metadata": {
    "colab": {
     "base_uri": "https://localhost:8080/"
    },
    "id": "2_TGfR6Rusbv",
    "outputId": "fe178d7b-d6f2-4efb-be9e-829a406e376a"
   },
   "outputs": [
    {
     "name": "stdout",
     "output_type": "stream",
     "text": [
      "[('José', 'MG'), ('Maria', 'AM'), ('Fernada', 'PE')]\n"
     ]
    }
   ],
   "source": [
    "# 2.Combinar dados de 2 dicionários\n",
    "nomes = {0: \"José\", 1: \"Maria\", 2: \"Fernada\"}\n",
    "estados = {0: \"MG\", 1: \"AM\", 2: \"PE\"}\n",
    "nome_estado = zip(nomes.values(), estados.values())\n",
    "print(list(nome_estado))"
   ]
  },
  {
   "cell_type": "code",
   "execution_count": 10,
   "metadata": {},
   "outputs": [
    {
     "name": "stdout",
     "output_type": "stream",
     "text": [
      "A cor da camiseta de João é azul!\n",
      "A cor da camiseta de José é verde!\n",
      "A cor da camiseta de Maria é vermelho!\n"
     ]
    }
   ],
   "source": [
    "# 3.Composição de strings com valores que estão em listas diferentes\n",
    "cores = [\"azul\", \"verde\", \"vermelho\"]\n",
    "pessoas = [\"João\", \"José\", \"Maria\"]\n",
    "\n",
    "for cor, pessoa in zip(cores, pessoas):\n",
    "    print(f\"A cor da camiseta de {pessoa} é {cor}!\")"
   ]
  },
  {
   "cell_type": "markdown",
   "metadata": {},
   "source": [
    "É isso!Espero que seja útil! :)"
   ]
  },
  {
   "cell_type": "markdown",
   "metadata": {
    "id": "LM78ga7H3WLm"
   },
   "source": [
    "***Referências:***\n",
    "\n",
    "1.Capítulo 3 do livro \"Python para Análise de Dados - Tratamento de dados com Pandas, Numpy e IPhyton\" (Wes McKinney)\n",
    "\n",
    "2.Site do W3Schools: https://www.w3schools.com/python/python_reference.asp\n",
    "\n",
    "3.Módulo 4 do curso Python Fundamentos para Análise de Dados da Data Science Academy: https://www.datascienceacademy.com.br/course/python-fundamentos\n",
    "\n",
    "\n"
   ]
  }
 ],
 "metadata": {
  "colab": {
   "collapsed_sections": [],
   "name": "BuiltIn_Functions.ipynb",
   "provenance": []
  },
  "kernelspec": {
   "display_name": "Python 3",
   "language": "python",
   "name": "python3"
  },
  "language_info": {
   "codemirror_mode": {
    "name": "ipython",
    "version": 3
   },
   "file_extension": ".py",
   "mimetype": "text/x-python",
   "name": "python",
   "nbconvert_exporter": "python",
   "pygments_lexer": "ipython3",
   "version": "3.8.8"
  }
 },
 "nbformat": 4,
 "nbformat_minor": 1
}
