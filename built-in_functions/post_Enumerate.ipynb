{
 "cells": [
  {
   "cell_type": "markdown",
   "metadata": {},
   "source": [
    "### ENUMERATE"
   ]
  },
  {
   "cell_type": "markdown",
   "metadata": {
    "id": "bEbr6DqFdqXq"
   },
   "source": [
    "Em Python, um loop (laço) \"for\" é frequentemente escrito como uma iteração sobre um objeto iterável (como por exemplo uma lista). Nele você não precisa de uma variável contadora para rastrear o índice dos elementos, como em algumas outras linguagens. Essa variável está implícita. Isso pode ser bastante útil e deixar o seu código ligeiramente mais limpo e enxuto, te poupando da necessidade de precisar incrementar o contador a cada rodada do laço. \n",
    "\n",
    "Porém, em algumas situações você pode querer  explicitamente acessar e controlar o contador. Por exemplo, se você quer imprimir os itens de uma lista de frutas de forma enumerada. Para isso, você poderia então escrever uma estrutura de código parecido com isto:"
   ]
  },
  {
   "cell_type": "code",
   "execution_count": 18,
   "metadata": {
    "colab": {
     "base_uri": "https://localhost:8080/"
    },
    "id": "UZt_tM_sUAVC",
    "outputId": "9f03b79d-e9df-4622-c3c9-01114905fa38"
   },
   "outputs": [
    {
     "name": "stdout",
     "output_type": "stream",
     "text": [
      "0 Banana\n",
      "1 Uva\n",
      "2 Melancia\n",
      "3 Abacaxi\n"
     ]
    }
   ],
   "source": [
    "# laço for tradicional com contador e incremento\n",
    "i=0\n",
    "frutas = [\"Banana\", \"Uva\", \"Melancia\", \"Abacaxi\" ]\n",
    "for fruta in frutas:\n",
    "  print(i, fruta)\n",
    "  i+=1"
   ]
  },
  {
   "cell_type": "markdown",
   "metadata": {
    "id": "AWWIDHqzgdjH"
   },
   "source": [
    "Porém, ao invés de usar um for, criar um contador e incrementá-lo ao fim de cada repetição, você pode usar a função enumerate() para acessar o valor do contador e do elemento em um objeto iterável de uma maneira simplificada. \n",
    "\n",
    "\n",
    "Vejamos a sintaxe da função:\n",
    "\n",
    "```\n",
    "enumerate(sequência,start), onde:\n",
    "```\n",
    "\n",
    "- **sequência** é um objeto iterável <br>\n",
    "- **start** é um número que define o valor inicial do contador. O seu valor padrão é 0. Vamos falar disso com mais detalhes logo abaixo. \n",
    "\n",
    "\n",
    "Por ora é mais importante ter em mente que o retorno da função é uma sequência de tuplas com 2 variáveis em cada: (o valor do contador da iteração atual, o valor do elemento da iteração atual). <br>\n",
    "Exemplo:"
   ]
  },
  {
   "cell_type": "code",
   "execution_count": 19,
   "metadata": {
    "colab": {
     "base_uri": "https://localhost:8080/"
    },
    "id": "TegQZPAHgpZg",
    "outputId": "c4ef9db3-5af0-4d54-808e-b1be5df92378"
   },
   "outputs": [
    {
     "data": {
      "text/plain": [
       "[(0, 'Banana'), (1, 'Uva'), (2, 'Melancia'), (3, 'Abacaxi')]"
      ]
     },
     "execution_count": 19,
     "metadata": {
      "tags": []
     },
     "output_type": "execute_result"
    }
   ],
   "source": [
    "enumerado = enumerate(frutas)\n",
    "list(enumerado)"
   ]
  },
  {
   "cell_type": "markdown",
   "metadata": {
    "id": "TeXUo16u-Ris"
   },
   "source": [
    "Aqui usamos a função \"list\" apenas para converter o objeto retornado em um formato mais legível. Mas repare que a função já incrementa o valor do contador em uma unidade a cada iteração de forma implícita. \n",
    "\n",
    "O retorno de uma função enumerate pode ser percorrido em um laço \"for\" como você faria com qualquer outra estrutura iterável. Passando os parâmetros corretos, é possível acessar o contador, o valor do elemento ou ambos a cada rodada de iteração, assim:"
   ]
  },
  {
   "cell_type": "code",
   "execution_count": 20,
   "metadata": {
    "colab": {
     "base_uri": "https://localhost:8080/"
    },
    "id": "0gXpuFZ3-VbD",
    "outputId": "f006f9dc-562a-433b-b15b-e7bf7487b5e1"
   },
   "outputs": [
    {
     "name": "stdout",
     "output_type": "stream",
     "text": [
      "0 Banana\n",
      "1 Uva\n",
      "2 Melancia\n",
      "3 Abacaxi\n"
     ]
    }
   ],
   "source": [
    "for contador,fruta in enumerate(frutas):\n",
    "  print(contador,fruta)"
   ]
  },
  {
   "cell_type": "markdown",
   "metadata": {
    "id": "sTzwcUhICkpz"
   },
   "source": [
    "Agora, falando um pouco mais sobre o argumento opcional de enumerate: **start**. Você pode usá-lo para controlar o valor inicial do contador. Em Python, todas as sequências indexadas começam com 0, e o argumento assume esse valor também como padrão. Ou seja, se você omitir o argumento, ele será inicializado como 0. Mas em alguns casos você pode simplesmente querer não iniciar o contador em 0. Se você quer imprimir uma lista na tela para o seu usuário, por exemplo, o item 0 pode não fazer tanto sentido em termos de leitura e interpretação. A nossa própria lista numerada de frutas poderia ficar mais agradável de ler se iniciássemos o numerador em 1:"
   ]
  },
  {
   "cell_type": "code",
   "execution_count": 21,
   "metadata": {
    "colab": {
     "base_uri": "https://localhost:8080/"
    },
    "id": "x7vHwBONC0jm",
    "outputId": "afc02827-67f1-4725-9e93-5720e58c59d2"
   },
   "outputs": [
    {
     "name": "stdout",
     "output_type": "stream",
     "text": [
      "Item 1: Banana\n",
      "Item 2: Uva\n",
      "Item 3: Melancia\n",
      "Item 4: Abacaxi\n"
     ]
    }
   ],
   "source": [
    "for contador, fruta in enumerate(frutas, start=1):\n",
    "  print(\"Item %d: %s\" %(contador, fruta))"
   ]
  },
  {
   "cell_type": "markdown",
   "metadata": {
    "id": "w7v-91t8ETfq"
   },
   "source": [
    "Repare que o laço não pulou o primeiro elemento da lista. Apenas associou o contador com valor 1 a ele, ao invés do valor padrão 0. \n",
    "Se você realmente quisesse pular o primeiro elemento da lista, poderia usar \"continue\" na cláusula 'if' (ou algo do tipo):"
   ]
  },
  {
   "cell_type": "code",
   "execution_count": 36,
   "metadata": {
    "colab": {
     "base_uri": "https://localhost:8080/"
    },
    "id": "OlApXDfTEvus",
    "outputId": "9a53e21d-2d85-454a-c482-50da27e01145"
   },
   "outputs": [
    {
     "name": "stdout",
     "output_type": "stream",
     "text": [
      "Item 1: Uva\n",
      "Item 2: Melancia\n",
      "Item 3: Abacaxi\n"
     ]
    }
   ],
   "source": [
    "for contador, fruta in enumerate(frutas):\n",
    "  if contador == 0: continue\n",
    "  print(\"Item %d: %s\" %(contador, fruta))"
   ]
  },
  {
   "cell_type": "markdown",
   "metadata": {
    "id": "Ohmdz4UyNmMZ"
   },
   "source": [
    "Agora que já falei bastante sobre a estrutura básica de enumerate, gostaria de finalizar com um exemplo um pouco mais real de sua aplicação. \n",
    "Imagine que você tem uma lista de palavras extraídas de um arquivo, por exemplo. E você quer saber quais palavras começam com a letra \"A\" e qual é a posição dessas palavras na lista. Você poderia ter algo do tipo para resolver o seu problema com o auxílio do enumerate:"
   ]
  },
  {
   "cell_type": "code",
   "execution_count": 38,
   "metadata": {
    "colab": {
     "base_uri": "https://localhost:8080/"
    },
    "id": "j0r_fiqDNidF",
    "outputId": "910df7f7-7315-4edb-b92e-2521cfa3740f"
   },
   "outputs": [
    {
     "data": {
      "text/plain": [
       "[0, 3, 6]"
      ]
     },
     "execution_count": 38,
     "metadata": {
      "tags": []
     },
     "output_type": "execute_result"
    }
   ],
   "source": [
    "# lista de palavras\n",
    "palavras = [\"abacaxi\", \"bola\", \"casa\", \"azar\", \"dado\", \"escola\", \"anel\", \"elefante\"]\n",
    "\n",
    "# Para facilitar e isolar o código, vamos criar uma função que fará esta ação:\n",
    "def identificarPosicoesQueComecamCom(lista, letra):\n",
    "  resultado = []\n",
    "  for indice, palavra in enumerate(lista):\n",
    "    if palavra.startswith(letra):\n",
    "      resultado.append(indice)\n",
    "  return resultado\n",
    "\n",
    "# Executando a função com nossa lista de palavras\n",
    "resultado = identificarPosicoesQueComecamCom(palavras,\"a\")\n",
    "resultado"
   ]
  },
  {
   "cell_type": "markdown",
   "metadata": {
    "id": "9RaU4HheUWql"
   },
   "source": [
    "É isso!Espero que este breve artigo seja útil! :)"
   ]
  },
  {
   "cell_type": "markdown",
   "metadata": {
    "id": "y8H6T6_bdvlO"
   },
   "source": [
    "***Referências:***\n",
    "\n",
    "1.Artigo Iterating With for Loops in Python. Link: https://realpython.com/python-enumerate/\n",
    "\n",
    "2.Site Python Help: https://pythonhelp.wordpress.com/2012/01/05/a-funcao-enumerate/"
   ]
  }
 ],
 "metadata": {
  "colab": {
   "name": "Enumerate.ipynb",
   "provenance": []
  },
  "kernelspec": {
   "display_name": "Python 3",
   "language": "python",
   "name": "python3"
  },
  "language_info": {
   "codemirror_mode": {
    "name": "ipython",
    "version": 3
   },
   "file_extension": ".py",
   "mimetype": "text/x-python",
   "name": "python",
   "nbconvert_exporter": "python",
   "pygments_lexer": "ipython3",
   "version": "3.8.8"
  }
 },
 "nbformat": 4,
 "nbformat_minor": 1
}
