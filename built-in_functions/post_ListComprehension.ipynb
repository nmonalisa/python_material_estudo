{
 "cells": [
  {
   "cell_type": "markdown",
   "metadata": {},
   "source": [
    "### List comprehension"
   ]
  },
  {
   "cell_type": "markdown",
   "metadata": {},
   "source": [
    "Hoje irei falar de list comprehension, uma forma eficiente de manipular e gerar listas em Python. Não tenho certeza sobre o nome dessa estrutura em português, mas parece que uma tradução razoável para o termo seria \"abrangência de listas\", embora eu também tenha encontrado \"compreensão de listas\" em uma tradução mais literal. Divergências de tradução à parte, manterei o termo original em inglês para evitar a fadiga! :p "
   ]
  },
  {
   "cell_type": "markdown",
   "metadata": {},
   "source": [
    "As list comprehension são usadas quando queremos otimizar a geração, manipulação ou iteração sobre listas. Ou seja, quando queremos criar uma nova lista baseada em valores de listas já existentes iterando sobre elas, porém com uma sintaxe mais reduzida e objetiva. Se a ideia ainda parece abstrata demais, vem comigo para eu tentar explicar melhor!"
   ]
  },
  {
   "cell_type": "markdown",
   "metadata": {},
   "source": [
    "Primeiro, vamos definir a sintaxe básica para essa construção:\n",
    "```\n",
    "[expressão E for item in sequência]\n",
    "\n",
    "```"
   ]
  },
  {
   "cell_type": "markdown",
   "metadata": {},
   "source": [
    "Reformulando de uma forma mais intuitiva: \"aplique  uma expressão qualquer E para cada item de uma determinada sequência\". E claro,  o retorno é uma lista, marcada pelos colchetes no início e fim da estrutura. O mesmo conceito pode ser estendido para outras estruturas de dados que não listas, como conjuntos e dicionários (set e dict comprehension), mas não discutiremos esses assuntos agora. Quem sabe na próxima postagem! #sayNoToSpoiler!"
   ]
  },
  {
   "cell_type": "markdown",
   "metadata": {},
   "source": [
    "Voltando à sintaxe, a expressão E pode ser qualquer manipulação que você queira fazer em relação a cada um dos item da lista original, inclusive retornar ele mesmo. Por exemplo, para criar uma nova lista que é uma cópia de uma lista original de números, podemos retornar cada número presente nela:"
   ]
  },
  {
   "cell_type": "code",
   "execution_count": 23,
   "metadata": {},
   "outputs": [],
   "source": [
    "numeros = [0,1,2,3,4,5,6,7,8,9,10]"
   ]
  },
  {
   "cell_type": "code",
   "execution_count": 24,
   "metadata": {
    "colab": {
     "base_uri": "https://localhost:8080/"
    },
    "id": "BGgu83aI9txd",
    "outputId": "899b53a1-6c7c-4eec-bdf2-fc9e6fb6147f"
   },
   "outputs": [
    {
     "data": {
      "text/plain": [
       "[0, 1, 2, 3, 4, 5, 6, 7, 8, 9, 10]"
      ]
     },
     "execution_count": 24,
     "metadata": {},
     "output_type": "execute_result"
    }
   ],
   "source": [
    "# usar a expressão para retornar o próprio item\n",
    "copia_numeros = [x for x in numeros]\n",
    "copia_numeros"
   ]
  },
  {
   "cell_type": "markdown",
   "metadata": {},
   "source": [
    "Veja como ficaria o código caso estivéssemos usando um 'for' tradicional:"
   ]
  },
  {
   "cell_type": "code",
   "execution_count": 25,
   "metadata": {
    "colab": {
     "base_uri": "https://localhost:8080/"
    },
    "id": "fNEl2yDLsdRd",
    "outputId": "e292e548-91b7-4fc7-90d7-487ec0a2420a"
   },
   "outputs": [
    {
     "data": {
      "text/plain": [
       "[0, 1, 2, 3, 4, 5, 6, 7, 8, 9, 10]"
      ]
     },
     "execution_count": 25,
     "metadata": {},
     "output_type": "execute_result"
    }
   ],
   "source": [
    "copia2 = []\n",
    "for x in numeros:\n",
    "  copia2.append(x)\n",
    "\n",
    "copia2"
   ]
  },
  {
   "cell_type": "markdown",
   "metadata": {},
   "source": [
    "Um pouco menos objetivo, não?\n",
    "Já se quisermos manipular cada número para retornar o seu produto por 2 ao invés do seu próprio valor, poderíamos escrever:"
   ]
  },
  {
   "cell_type": "code",
   "execution_count": 26,
   "metadata": {
    "colab": {
     "base_uri": "https://localhost:8080/"
    },
    "id": "lgNP3TKtZqCZ",
    "outputId": "99f9b3ce-cd4f-42a1-b7c7-526ab20ede79"
   },
   "outputs": [
    {
     "data": {
      "text/plain": [
       "[0, 2, 4, 6, 8, 10, 12, 14, 16, 18, 20]"
      ]
     },
     "execution_count": 26,
     "metadata": {},
     "output_type": "execute_result"
    }
   ],
   "source": [
    "# expressões para manipular o item: multiplicar por 2\n",
    "produto = [x*2 for x in numeros]\n",
    "produto"
   ]
  },
  {
   "cell_type": "markdown",
   "metadata": {},
   "source": [
    "A list comprehension também pode conter condições, passando a funcionar de forma similar à função nativa 'filter'. Essa condição será testada para cada um dos elementos durante o laço 'for' e a expressão só será aplicada se o item satisfazê-la (retornar True). Nesse caso, a sintaxe da 'list comprehension' fica assim:\n",
    "\n",
    "```\n",
    "[expressão for item in sequência if condição == True]\n",
    "\n",
    "```"
   ]
  },
  {
   "cell_type": "markdown",
   "metadata": {},
   "source": [
    "Vejamos um exemplo para extrair apenas os números pares da nossa lista:"
   ]
  },
  {
   "cell_type": "code",
   "execution_count": 27,
   "metadata": {
    "colab": {
     "base_uri": "https://localhost:8080/"
    },
    "id": "rz73J_jbdsTo",
    "outputId": "e85419b9-c1e0-4164-9d23-8d548147ab0e"
   },
   "outputs": [
    {
     "data": {
      "text/plain": [
       "[0, 2, 4, 6, 8, 10]"
      ]
     },
     "execution_count": 27,
     "metadata": {},
     "output_type": "execute_result"
    }
   ],
   "source": [
    "# condicional: filtrar os números pares da lista\n",
    "numeros_pares = [x for x in numeros if x%2 == 0]\n",
    "numeros_pares"
   ]
  },
  {
   "cell_type": "markdown",
   "metadata": {},
   "source": [
    "Ou seja, estamos pedindo para a função retornar o próprio item (x) para cada item x da lista de números, apenas se ele é par (resto 0 para divisão por 2) e retornando tudo isso em uma lista."
   ]
  },
  {
   "cell_type": "markdown",
   "metadata": {},
   "source": [
    "Também é possível incluir condicionais if-else de uma outra forma, passando as instruções no lugar da expressão que será aplicada a cada item da lista antes do 'for'. Exemplo, retornar \"Par\" ou \"Ímpar\" para cada número da nossa lista:"
   ]
  },
  {
   "cell_type": "code",
   "execution_count": 28,
   "metadata": {
    "colab": {
     "base_uri": "https://localhost:8080/"
    },
    "id": "OzLp0BRUaPAE",
    "outputId": "34da4081-c956-4717-a82f-b28cc4cb47ac"
   },
   "outputs": [
    {
     "data": {
      "text/plain": [
       "['Par',\n",
       " 'Ímpar',\n",
       " 'Par',\n",
       " 'Ímpar',\n",
       " 'Par',\n",
       " 'Ímpar',\n",
       " 'Par',\n",
       " 'Ímpar',\n",
       " 'Par',\n",
       " 'Ímpar',\n",
       " 'Par']"
      ]
     },
     "execution_count": 28,
     "metadata": {},
     "output_type": "execute_result"
    }
   ],
   "source": [
    "# condicional passada como expressão\n",
    "par_impar = [\"Par\" if x %2 == 0 else \"Ímpar\" for x in numeros]\n",
    "par_impar"
   ]
  },
  {
   "cell_type": "markdown",
   "metadata": {},
   "source": [
    "### Comprehension aninhadas"
   ]
  },
  {
   "cell_type": "markdown",
   "metadata": {},
   "source": [
    "Agora a coisa fica um pouco mais complexa, pero no mucho! :p <br>\n",
    "Podemos usar list comprehension aninhadas. Ou seja, uma list comprehension dentro da outra, da mesma forma como fazemos um 'for' aninhado. Para isso vamos supor que precisamos transpor uma matriz: transformar as linhas em colunas. Essa não é a melhor forma realmente de se fazer uma transposição (apesar de funcionar). Com outras bibliotecas como o NumPy você conseguiria fazer a mesma tarefa com apenas uma linha de código. Mas funciona bem para fins de compreensão do conceito. Vamos lá:"
   ]
  },
  {
   "cell_type": "code",
   "execution_count": 29,
   "metadata": {},
   "outputs": [],
   "source": [
    "# matriz original:\n",
    "matriz = [\n",
    "  [1, 2, 3, 4],\n",
    "  [5, 6, 7, 8],\n",
    "  [9, 10, 11, 12]\n",
    "]"
   ]
  },
  {
   "cell_type": "code",
   "execution_count": 30,
   "metadata": {},
   "outputs": [
    {
     "data": {
      "text/plain": [
       "[[1, 5, 9], [2, 6, 10], [3, 7, 11], [4, 8, 12]]"
      ]
     },
     "execution_count": 30,
     "metadata": {},
     "output_type": "execute_result"
    }
   ],
   "source": [
    "matrizT = [[linha[coluna] for linha in matriz] for coluna in range(4)]\n",
    "matrizT"
   ]
  },
  {
   "cell_type": "markdown",
   "metadata": {},
   "source": [
    "O que está ocorrendo aqui?"
   ]
  },
  {
   "cell_type": "markdown",
   "metadata": {},
   "source": [
    "O primeiro loop diz respeito às linhas da matriz. Já o segundo corresponde às posições referentes às colunas de cada linha (e, portanto da matriz), que varia de de 0 a 3. Assim, a cada iteração iremos retornar uma lista com os elementos de uma mesma coluna para cada uma das linhas. Ou seja:"
   ]
  },
  {
   "cell_type": "markdown",
   "metadata": {},
   "source": [
    "- No loop 1, o valor da coluna = 0. Logo, [linha[0] for linha in matriz] retorna uma lista com o elemento da posição 0 de todas as linhas: [1,5,9]\n",
    "- No loop 2, o valor da coluna = 1. Logo, [linha[1] for linha in matriz] retorna uma lista com o elemento da posição 1 de todas as linhas: [2,6,10]\n",
    "- No loop 3, o valor da coluna = 2. Logo, [linha[2] for linha in matriz] retorna uma lista com o elemento da posição 2 de todas as linhas: [3,7,11]\n",
    "- No loop 4, o valor da coluna = 3. Logo, [linha[3] for linha in matriz] retorna uma lista com o elemento da posição 3 de todas as linhas: [4,8,12]"
   ]
  },
  {
   "cell_type": "markdown",
   "metadata": {},
   "source": [
    "Veja como ficaria o código para executar esta mesma tarefa usando o 'for' aninhado:"
   ]
  },
  {
   "cell_type": "code",
   "execution_count": 32,
   "metadata": {},
   "outputs": [
    {
     "data": {
      "text/plain": [
       "[[1, 5, 9], [2, 6, 10], [3, 7, 11], [4, 8, 12]]"
      ]
     },
     "execution_count": 32,
     "metadata": {},
     "output_type": "execute_result"
    }
   ],
   "source": [
    "matrizT = []\n",
    "for i in range(len(matriz[0])):\n",
    "    linhaT = []\n",
    "\n",
    "    for linha in matriz:\n",
    "        linhaT.append(linha[i])\n",
    "    matrizT.append(linhaT)\n",
    "\n",
    "matrizT"
   ]
  },
  {
   "cell_type": "markdown",
   "metadata": {},
   "source": [
    "Economizamos umas linhas de código, não?\n",
    "\n",
    "Bom, então é isso!Espero que tenha sido útil! :)"
   ]
  }
 ],
 "metadata": {
  "colab": {
   "name": "ListComprehension.ipynb",
   "provenance": []
  },
  "kernelspec": {
   "display_name": "Python 3",
   "language": "python",
   "name": "python3"
  },
  "language_info": {
   "codemirror_mode": {
    "name": "ipython",
    "version": 3
   },
   "file_extension": ".py",
   "mimetype": "text/x-python",
   "name": "python",
   "nbconvert_exporter": "python",
   "pygments_lexer": "ipython3",
   "version": "3.8.8"
  }
 },
 "nbformat": 4,
 "nbformat_minor": 1
}
