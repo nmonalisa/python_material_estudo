{
 "cells": [
  {
   "cell_type": "markdown",
   "metadata": {
    "id": "JblYsUfLhAO3"
   },
   "source": [
    "MATPLOT LIB e módulo pyplot\n",
    "- documentação com exemplos, códigos e tutoriais dos gráficos: https://matplotlib.org/stable/gallery/index.html\n",
    "- permite apenas gráficos estáticos\n",
    "- Bibliotecas úteis para análise exploratória de gráficos. Porém os layouts deixam um pouco a desejar. Portanto, não é ideal para usar em um portal oficial de visualização de dados (dashboard). Para apresentação de dados em produção melhor o seaborn"
   ]
  },
  {
   "cell_type": "code",
   "execution_count": 4,
   "metadata": {
    "colab": {
     "base_uri": "https://localhost:8080/"
    },
    "executionInfo": {
     "elapsed": 3842,
     "status": "ok",
     "timestamp": 1618113375413,
     "user": {
      "displayName": "Nathalia Monalisa",
      "photoUrl": "https://lh3.googleusercontent.com/a-/AOh14Gg4bRqN6u2OPtAsHW60Z2d5aHZuJjVQ0v7-RToEr-E=s64",
      "userId": "02164542156237380771"
     },
     "user_tz": 180
    },
    "id": "vDBN2s7QrNhl",
    "outputId": "584bc247-308b-40a8-ea7e-ff65716f820b"
   },
   "outputs": [
    {
     "name": "stdout",
     "output_type": "stream",
     "text": [
      "Requirement already satisfied: matplotlib in /usr/local/lib/python3.7/dist-packages (3.2.2)\n",
      "Requirement already satisfied: pyparsing!=2.0.4,!=2.1.2,!=2.1.6,>=2.0.1 in /usr/local/lib/python3.7/dist-packages (from matplotlib) (2.4.7)\n",
      "Requirement already satisfied: kiwisolver>=1.0.1 in /usr/local/lib/python3.7/dist-packages (from matplotlib) (1.3.1)\n",
      "Requirement already satisfied: numpy>=1.11 in /usr/local/lib/python3.7/dist-packages (from matplotlib) (1.19.5)\n",
      "Requirement already satisfied: python-dateutil>=2.1 in /usr/local/lib/python3.7/dist-packages (from matplotlib) (2.8.1)\n",
      "Requirement already satisfied: cycler>=0.10 in /usr/local/lib/python3.7/dist-packages (from matplotlib) (0.10.0)\n",
      "Requirement already satisfied: six>=1.5 in /usr/local/lib/python3.7/dist-packages (from python-dateutil>=2.1->matplotlib) (1.15.0)\n"
     ]
    }
   ],
   "source": [
    "#instalação da lib\n",
    "!pip install matplotlib"
   ]
  },
  {
   "cell_type": "code",
   "execution_count": 5,
   "metadata": {
    "executionInfo": {
     "elapsed": 3834,
     "status": "ok",
     "timestamp": 1618113375415,
     "user": {
      "displayName": "Nathalia Monalisa",
      "photoUrl": "https://lh3.googleusercontent.com/a-/AOh14Gg4bRqN6u2OPtAsHW60Z2d5aHZuJjVQ0v7-RToEr-E=s64",
      "userId": "02164542156237380771"
     },
     "user_tz": 180
    },
    "id": "CKIFooAqiD-v"
   },
   "outputs": [],
   "source": [
    "#importando o módulo pyplot a partir da lib\n",
    "import matplotlib.pyplot as plt\n",
    "\n",
    "#permitir grafico interativo\n",
    "%matplotlib inline\n",
    "\n",
    "#cada instância de plt (objeto plt) é um gráfico\n",
    "#assim, mexer nos params em um mesmo plt adiciona ou remove coisas da área deste gráfico"
   ]
  },
  {
   "cell_type": "code",
   "execution_count": 6,
   "metadata": {
    "executionInfo": {
     "elapsed": 3828,
     "status": "ok",
     "timestamp": 1618113375415,
     "user": {
      "displayName": "Nathalia Monalisa",
      "photoUrl": "https://lh3.googleusercontent.com/a-/AOh14Gg4bRqN6u2OPtAsHW60Z2d5aHZuJjVQ0v7-RToEr-E=s64",
      "userId": "02164542156237380771"
     },
     "user_tz": 180
    },
    "id": "Fgu9DNth2n5v"
   },
   "outputs": [],
   "source": [
    "# #Configuração gerais dos gráficos\n",
    "# #legenda\n",
    "# plt.ylabel('Eixo y')\n",
    "# plt.xlabel('Eixo x')\n",
    "\n",
    "# #limite: xmin, xmax, ymin, ymax\n",
    "# plt.axis([0,6, 0,20])\n",
    "\n",
    "# #legenda\n",
    "# plt.legend()\n",
    "\n",
    "# #title\n",
    "# plt.title(\"Quantidade de Vendas\")\n",
    "\n",
    "# #Inserir texto no gráfico\n",
    "# plt.text()\n",
    "\n",
    "# #definir tema dos gráficos\n",
    "# plt.style.use('ggplot')\n",
    "\n"
   ]
  },
  {
   "cell_type": "code",
   "execution_count": 7,
   "metadata": {
    "executionInfo": {
     "elapsed": 3821,
     "status": "ok",
     "timestamp": 1618113375416,
     "user": {
      "displayName": "Nathalia Monalisa",
      "photoUrl": "https://lh3.googleusercontent.com/a-/AOh14Gg4bRqN6u2OPtAsHW60Z2d5aHZuJjVQ0v7-RToEr-E=s64",
      "userId": "02164542156237380771"
     },
     "user_tz": 180
    },
    "id": "qjv7IrWF90u4"
   },
   "outputs": [],
   "source": [
    " #########################\n",
    " ## PRINCIPAIS GRÁFICOS ##\n",
    " #########################"
   ]
  },
  {
   "cell_type": "code",
   "execution_count": 8,
   "metadata": {
    "colab": {
     "base_uri": "https://localhost:8080/",
     "height": 296
    },
    "executionInfo": {
     "elapsed": 4215,
     "status": "ok",
     "timestamp": 1618113375814,
     "user": {
      "displayName": "Nathalia Monalisa",
      "photoUrl": "https://lh3.googleusercontent.com/a-/AOh14Gg4bRqN6u2OPtAsHW60Z2d5aHZuJjVQ0v7-RToEr-E=s64",
      "userId": "02164542156237380771"
     },
     "user_tz": 180
    },
    "id": "y4-P5nc9u19j",
    "outputId": "d58b281f-24ee-4236-edc2-772a093e58c7"
   },
   "outputs": [
    {
     "data": {
      "text/plain": [
       "Text(0, 0.5, 'Eixo Y')"
      ]
     },
     "execution_count": 8,
     "metadata": {
      "tags": []
     },
     "output_type": "execute_result"
    },
    {
     "data": {
      "image/png": "[encoded data removed]",
      "text/plain": [
       "<Figure size 432x288 with 1 Axes>"
      ]
     },
     "metadata": {
      "needs_background": "light",
      "tags": []
     },
     "output_type": "display_data"
    }
   ],
   "source": [
    "#Gráfico de linha: plot(x,y), onde x e y podem ser listas\n",
    "# plt.plot(x,y)\n",
    "x = [0,1,2,3,4,5]\n",
    "y = [0,2,4,6,8,10]\n",
    "\n",
    "plt.plot(x,y, linewidth=1)\n",
    "\n",
    "#labels\n",
    "plt.xlabel(\"Eixo X\")\n",
    "plt.ylabel(\"Eixo Y\")"
   ]
  },
  {
   "cell_type": "code",
   "execution_count": 9,
   "metadata": {
    "colab": {
     "base_uri": "https://localhost:8080/",
     "height": 296
    },
    "executionInfo": {
     "elapsed": 4212,
     "status": "ok",
     "timestamp": 1618113375815,
     "user": {
      "displayName": "Nathalia Monalisa",
      "photoUrl": "https://lh3.googleusercontent.com/a-/AOh14Gg4bRqN6u2OPtAsHW60Z2d5aHZuJjVQ0v7-RToEr-E=s64",
      "userId": "02164542156237380771"
     },
     "user_tz": 180
    },
    "id": "gDF_wIzeB2zm",
    "outputId": "ceb84883-f385-431c-a8b4-ca80e1ca407e"
   },
   "outputs": [
    {
     "data": {
      "text/plain": [
       "Text(0, 0.5, 'Eixo Y')"
      ]
     },
     "execution_count": 9,
     "metadata": {
      "tags": []
     },
     "output_type": "execute_result"
    },
    {
     "data": {
      "image/png": "[encoded data removed]",
      "text/plain": [
       "<Figure size 432x288 with 1 Axes>"
      ]
     },
     "metadata": {
      "needs_background": "light",
      "tags": []
     },
     "output_type": "display_data"
    }
   ],
   "source": [
    "#tipos de marcadores\n",
    "plt.plot(x,y, 'o')\n",
    "plt.xlabel(\"Eixo X\")\n",
    "plt.ylabel(\"Eixo Y\")"
   ]
  },
  {
   "cell_type": "code",
   "execution_count": 10,
   "metadata": {
    "colab": {
     "base_uri": "https://localhost:8080/",
     "height": 296
    },
    "executionInfo": {
     "elapsed": 4495,
     "status": "ok",
     "timestamp": 1618113376103,
     "user": {
      "displayName": "Nathalia Monalisa",
      "photoUrl": "https://lh3.googleusercontent.com/a-/AOh14Gg4bRqN6u2OPtAsHW60Z2d5aHZuJjVQ0v7-RToEr-E=s64",
      "userId": "02164542156237380771"
     },
     "user_tz": 180
    },
    "id": "ds2NSIVIiZgS",
    "outputId": "968e0da8-4bc2-4793-9346-275d1daba149"
   },
   "outputs": [
    {
     "data": {
      "text/plain": [
       "Text(0, 0.5, 'Eixo Y')"
      ]
     },
     "execution_count": 10,
     "metadata": {
      "tags": []
     },
     "output_type": "execute_result"
    },
    {
     "data": {
      "image/png": "[encoded data removed]",
      "text/plain": [
       "<Figure size 432x288 with 1 Axes>"
      ]
     },
     "metadata": {
      "needs_background": "light",
      "tags": []
     },
     "output_type": "display_data"
    }
   ],
   "source": [
    "plt.plot(x,y,'bo')\n",
    "plt.xlabel(\"Eixo X\")\n",
    "plt.ylabel(\"Eixo Y\")"
   ]
  },
  {
   "cell_type": "code",
   "execution_count": 11,
   "metadata": {
    "colab": {
     "base_uri": "https://localhost:8080/",
     "height": 296
    },
    "executionInfo": {
     "elapsed": 4493,
     "status": "ok",
     "timestamp": 1618113376105,
     "user": {
      "displayName": "Nathalia Monalisa",
      "photoUrl": "https://lh3.googleusercontent.com/a-/AOh14Gg4bRqN6u2OPtAsHW60Z2d5aHZuJjVQ0v7-RToEr-E=s64",
      "userId": "02164542156237380771"
     },
     "user_tz": 180
    },
    "id": "4YbeCX8PiRXX",
    "outputId": "a9f1b8ea-7db6-41be-de16-07160db175eb"
   },
   "outputs": [
    {
     "data": {
      "text/plain": [
       "Text(0, 0.5, 'Eixo Y')"
      ]
     },
     "execution_count": 11,
     "metadata": {
      "tags": []
     },
     "output_type": "execute_result"
    },
    {
     "data": {
      "image/png": "[encoded data removed]",
      "text/plain": [
       "<Figure size 432x288 with 1 Axes>"
      ]
     },
     "metadata": {
      "needs_background": "light",
      "tags": []
     },
     "output_type": "display_data"
    }
   ],
   "source": [
    "plt.plot(x,y,'--r')\n",
    "plt.xlabel(\"Eixo X\")\n",
    "plt.ylabel(\"Eixo Y\")"
   ]
  },
  {
   "cell_type": "code",
   "execution_count": 12,
   "metadata": {
    "colab": {
     "base_uri": "https://localhost:8080/",
     "height": 286
    },
    "executionInfo": {
     "elapsed": 4802,
     "status": "ok",
     "timestamp": 1618113376419,
     "user": {
      "displayName": "Nathalia Monalisa",
      "photoUrl": "https://lh3.googleusercontent.com/a-/AOh14Gg4bRqN6u2OPtAsHW60Z2d5aHZuJjVQ0v7-RToEr-E=s64",
      "userId": "02164542156237380771"
     },
     "user_tz": 180
    },
    "id": "zXYzV7XaybTw",
    "outputId": "adb95f10-a8af-4b80-d03c-23413dc96ce9"
   },
   "outputs": [
    {
     "data": {
      "text/plain": [
       "(-1.0, 6.0, -1.0, 12.0)"
      ]
     },
     "execution_count": 12,
     "metadata": {
      "tags": []
     },
     "output_type": "execute_result"
    },
    {
     "data": {
      "image/png": "[encoded data removed]",
      "text/plain": [
       "<Figure size 432x288 with 1 Axes>"
      ]
     },
     "metadata": {
      "needs_background": "light",
      "tags": []
     },
     "output_type": "display_data"
    }
   ],
   "source": [
    "#limites de x e y: plt.plot([xmin,xmax, ymin,ymax])\n",
    "plt.plot(x,y)\n",
    "plt.axis([-1, 6, -1, 12 ])"
   ]
  },
  {
   "cell_type": "code",
   "execution_count": 13,
   "metadata": {
    "executionInfo": {
     "elapsed": 4798,
     "status": "ok",
     "timestamp": 1618113376419,
     "user": {
      "displayName": "Nathalia Monalisa",
      "photoUrl": "https://lh3.googleusercontent.com/a-/AOh14Gg4bRqN6u2OPtAsHW60Z2d5aHZuJjVQ0v7-RToEr-E=s64",
      "userId": "02164542156237380771"
     },
     "user_tz": 180
    },
    "id": "jhHFOPy3ikx-"
   },
   "outputs": [],
   "source": [
    "#diferentes series de dados no mesmo grafico\n",
    "#montando as séries de dados: x1 x2 y1 y2\n",
    "import numpy as np\n",
    "x1 = np.array(x)\n",
    "x2=x1*2\n",
    "y1=x1*0.5\n",
    "y2=x1*2"
   ]
  },
  {
   "cell_type": "code",
   "execution_count": 14,
   "metadata": {
    "colab": {
     "base_uri": "https://localhost:8080/",
     "height": 298
    },
    "executionInfo": {
     "elapsed": 5182,
     "status": "ok",
     "timestamp": 1618113376807,
     "user": {
      "displayName": "Nathalia Monalisa",
      "photoUrl": "https://lh3.googleusercontent.com/a-/AOh14Gg4bRqN6u2OPtAsHW60Z2d5aHZuJjVQ0v7-RToEr-E=s64",
      "userId": "02164542156237380771"
     },
     "user_tz": 180
    },
    "id": "Vqvow1b5immi",
    "outputId": "fdb6cdfa-679f-4c52-8da2-d6b66a7f2c8b"
   },
   "outputs": [
    {
     "data": {
      "text/plain": [
       "[<matplotlib.lines.Line2D at 0x7f5e5cae1f90>,\n",
       " <matplotlib.lines.Line2D at 0x7f5e5cafdad0>]"
      ]
     },
     "execution_count": 14,
     "metadata": {
      "tags": []
     },
     "output_type": "execute_result"
    },
    {
     "data": {
      "image/png": "[encoded data removed]",
      "text/plain": [
       "<Figure size 432x288 with 1 Axes>"
      ]
     },
     "metadata": {
      "needs_background": "light",
      "tags": []
     },
     "output_type": "display_data"
    }
   ],
   "source": [
    "#Forma 1  de postar != séries de dados em um mesmo gráfico\n",
    "plt.plot(x1,y1, 'bo', x2,y2, 'ro')"
   ]
  },
  {
   "cell_type": "code",
   "execution_count": 15,
   "metadata": {
    "colab": {
     "base_uri": "https://localhost:8080/",
     "height": 282
    },
    "executionInfo": {
     "elapsed": 5420,
     "status": "ok",
     "timestamp": 1618113377050,
     "user": {
      "displayName": "Nathalia Monalisa",
      "photoUrl": "https://lh3.googleusercontent.com/a-/AOh14Gg4bRqN6u2OPtAsHW60Z2d5aHZuJjVQ0v7-RToEr-E=s64",
      "userId": "02164542156237380771"
     },
     "user_tz": 180
    },
    "id": "PnMIsntAipEc",
    "outputId": "24836852-4b03-4894-9973-06a7ce7a6147"
   },
   "outputs": [
    {
     "data": {
      "text/plain": [
       "[<matplotlib.lines.Line2D at 0x7f5e5ca75190>]"
      ]
     },
     "execution_count": 15,
     "metadata": {
      "tags": []
     },
     "output_type": "execute_result"
    },
    {
     "data": {
      "image/png": "[encoded data removed]",
      "text/plain": [
       "<Figure size 432x288 with 1 Axes>"
      ]
     },
     "metadata": {
      "needs_background": "light",
      "tags": []
     },
     "output_type": "display_data"
    }
   ],
   "source": [
    "#Forma 2  de postar != séries de dados em um mesmo gráfico\n",
    "plt.plot(x1,y1, 'bo')\n",
    "plt.plot(x2,y2,'go')"
   ]
  },
  {
   "cell_type": "code",
   "execution_count": 16,
   "metadata": {
    "colab": {
     "base_uri": "https://localhost:8080/",
     "height": 282
    },
    "executionInfo": {
     "elapsed": 5418,
     "status": "ok",
     "timestamp": 1618113377052,
     "user": {
      "displayName": "Nathalia Monalisa",
      "photoUrl": "https://lh3.googleusercontent.com/a-/AOh14Gg4bRqN6u2OPtAsHW60Z2d5aHZuJjVQ0v7-RToEr-E=s64",
      "userId": "02164542156237380771"
     },
     "user_tz": 180
    },
    "id": "ZpWD-NpQ0t-M",
    "outputId": "d079d168-0e67-42f1-c96e-927a14116162"
   },
   "outputs": [
    {
     "data": {
      "text/plain": [
       "<BarContainer object of 4 artists>"
      ]
     },
     "execution_count": 16,
     "metadata": {
      "tags": []
     },
     "output_type": "execute_result"
    },
    {
     "data": {
      "image/png": "[encoded data removed]",
      "text/plain": [
       "<Figure size 432x288 with 1 Axes>"
      ]
     },
     "metadata": {
      "needs_background": "light",
      "tags": []
     },
     "output_type": "display_data"
    }
   ],
   "source": [
    "#Plotando dados categóricos: \n",
    "#1.gráfico de barras: bar(x,y, width=0.25, label = 'xxx', color = 'blue')\n",
    "x=['TipoA', 'TipoB', 'TipoC', 'TipoD']\n",
    "y=[10,20,30,40]\n",
    "plt.bar(x,y, color=['b','g', 'r', 'y'], width=0.5)"
   ]
  },
  {
   "cell_type": "code",
   "execution_count": 17,
   "metadata": {
    "colab": {
     "base_uri": "https://localhost:8080/",
     "height": 282
    },
    "executionInfo": {
     "elapsed": 5627,
     "status": "ok",
     "timestamp": 1618113377267,
     "user": {
      "displayName": "Nathalia Monalisa",
      "photoUrl": "https://lh3.googleusercontent.com/a-/AOh14Gg4bRqN6u2OPtAsHW60Z2d5aHZuJjVQ0v7-RToEr-E=s64",
      "userId": "02164542156237380771"
     },
     "user_tz": 180
    },
    "id": "vgRdZanxiw3K",
    "outputId": "0ce19535-b7c1-4262-924f-cee6aadc7e60"
   },
   "outputs": [
    {
     "data": {
      "text/plain": [
       "<BarContainer object of 4 artists>"
      ]
     },
     "execution_count": 17,
     "metadata": {
      "tags": []
     },
     "output_type": "execute_result"
    },
    {
     "data": {
      "image/png": "[encoded data removed]",
      "text/plain": [
       "<Figure size 432x288 with 1 Axes>"
      ]
     },
     "metadata": {
      "needs_background": "light",
      "tags": []
     },
     "output_type": "display_data"
    }
   ],
   "source": [
    "plt.bar(x,y, width=0.5)"
   ]
  },
  {
   "cell_type": "code",
   "execution_count": 18,
   "metadata": {
    "colab": {
     "base_uri": "https://localhost:8080/",
     "height": 265
    },
    "executionInfo": {
     "elapsed": 5938,
     "status": "ok",
     "timestamp": 1618113377583,
     "user": {
      "displayName": "Nathalia Monalisa",
      "photoUrl": "https://lh3.googleusercontent.com/a-/AOh14Gg4bRqN6u2OPtAsHW60Z2d5aHZuJjVQ0v7-RToEr-E=s64",
      "userId": "02164542156237380771"
     },
     "user_tz": 180
    },
    "id": "QtchS3dtBqvz",
    "outputId": "6cd37126-46f9-481d-a268-a05960a2d24a"
   },
   "outputs": [
    {
     "data": {
      "image/png": "[encoded data removed]",
      "text/plain": [
       "<Figure size 432x288 with 1 Axes>"
      ]
     },
     "metadata": {
      "needs_background": "light",
      "tags": []
     },
     "output_type": "display_data"
    }
   ],
   "source": [
    "#1.1.gráfico de barra invertido\n",
    "#Funciona bem quando os labels dos eixos são longos\n",
    "grupos = ['Produto A', 'Produto B', 'Produto C']\n",
    "valores = [1, 10, 100]\n",
    "plt.barh(grupos, valores)\n",
    "plt.yticks(rotation=45) #inclinar labels\n",
    "plt.show()"
   ]
  },
  {
   "cell_type": "code",
   "execution_count": 19,
   "metadata": {
    "colab": {
     "base_uri": "https://localhost:8080/",
     "height": 297
    },
    "executionInfo": {
     "elapsed": 6315,
     "status": "ok",
     "timestamp": 1618113377964,
     "user": {
      "displayName": "Nathalia Monalisa",
      "photoUrl": "https://lh3.googleusercontent.com/a-/AOh14Gg4bRqN6u2OPtAsHW60Z2d5aHZuJjVQ0v7-RToEr-E=s64",
      "userId": "02164542156237380771"
     },
     "user_tz": 180
    },
    "id": "BAf1FV9F3x6L",
    "outputId": "2700e003-aa4f-4112-996e-86c713ee5023"
   },
   "outputs": [
    {
     "data": {
      "text/plain": [
       "Text(0.5, 1.0, 'Quantidade de Vendas')"
      ]
     },
     "execution_count": 19,
     "metadata": {
      "tags": []
     },
     "output_type": "execute_result"
    },
    {
     "data": {
      "image/png": "[encoded data removed]",
      "text/plain": [
       "<Figure size 432x288 with 1 Axes>"
      ]
     },
     "metadata": {
      "needs_background": "light",
      "tags": []
     },
     "output_type": "display_data"
    }
   ],
   "source": [
    "#composição de graficos de barras: duas variáveis explicativas categóricas (meses e tipo de produtos) e uma numérica como resposta (vendas)\n",
    "#plotar a quantidade de vendas (y) em função dos meses (x1) e tipo de produto (x2)\n",
    "import numpy as np\n",
    "\n",
    "y_prodA = [5,7,9,11,15]\n",
    "y_prodB = [y+10 for y in y_prodA]\n",
    "meses=['Janeiro', 'Fevereiro', 'Marco', 'Abril', 'Maio']\n",
    "\n",
    "#criando coordenadas em x para as barras do primeiro grupo: 0 até o n° meses, com intervalo de 1\n",
    "x1 = np.arange(len(meses)) #x1=[0,1,2,3,4]\n",
    "\n",
    "#criando a coordenada do grupo 2: está a cada 0.25 de distância de cada barra do grupo1 (coordenadas x1)\n",
    "x2=[x + 0.25 for x in x1] #x2=[0.25, 1.25, 2.25, 3.25, 4.25]\n",
    "\n",
    "#criando o plot de barras para cada série de dados:\n",
    "#x1 e prodA, x2 e prodB\n",
    "plt.bar(x1,y_prodA, width=0.25, label=\"ProdutoA\", color='b')\n",
    "plt.bar(x2,y_prodB, width=0.25, label=\"ProdutoB\",color='lightblue')\n",
    "\n",
    "#mudando a label do eixo x para meses\n",
    "#xsticks([coordenadas], [labels])\n",
    "#vamos reaproveitar o valor de x1 como coordenada para os ticks\n",
    "plt.xticks(x1,meses)\n",
    "#se quiser deslocar o stick um pouco para direita\n",
    "plt.xticks([x + 0.12 for x in x1])\n",
    "\n",
    "#ajustes\n",
    "plt.legend() #reutiliza as labels passadas em plt.bar\n",
    "plt.title(\"Quantidade de Vendas\")"
   ]
  },
  {
   "cell_type": "code",
   "execution_count": 20,
   "metadata": {
    "colab": {
     "base_uri": "https://localhost:8080/",
     "height": 248
    },
    "executionInfo": {
     "elapsed": 6312,
     "status": "ok",
     "timestamp": 1618113377965,
     "user": {
      "displayName": "Nathalia Monalisa",
      "photoUrl": "https://lh3.googleusercontent.com/a-/AOh14Gg4bRqN6u2OPtAsHW60Z2d5aHZuJjVQ0v7-RToEr-E=s64",
      "userId": "02164542156237380771"
     },
     "user_tz": 180
    },
    "id": "IQXv2WukCNpI",
    "outputId": "f9ba11ab-fb2e-4f71-9fa5-6ef276d30727"
   },
   "outputs": [
    {
     "data": {
      "image/png": "[encoded data removed]",
      "text/plain": [
       "<Figure size 432x288 with 1 Axes>"
      ]
     },
     "metadata": {
      "tags": []
     },
     "output_type": "display_data"
    }
   ],
   "source": [
    "#3.Gráfico de pizza\n",
    "vendas = [3000, 2300, 1000, 500]\n",
    "labels = ['E-commerce', 'Loja Física', 'e-mail', 'Marketplace']\n",
    "\n",
    "plt.pie(vendas, labels=labels)\n",
    "plt.show()"
   ]
  },
  {
   "cell_type": "code",
   "execution_count": 21,
   "metadata": {
    "colab": {
     "base_uri": "https://localhost:8080/",
     "height": 249
    },
    "executionInfo": {
     "elapsed": 6930,
     "status": "ok",
     "timestamp": 1618113378588,
     "user": {
      "displayName": "Nathalia Monalisa",
      "photoUrl": "https://lh3.googleusercontent.com/a-/AOh14Gg4bRqN6u2OPtAsHW60Z2d5aHZuJjVQ0v7-RToEr-E=s64",
      "userId": "02164542156237380771"
     },
     "user_tz": 180
    },
    "id": "XAJR-CsKDFtc",
    "outputId": "5eddd56b-2f60-4d8e-ba72-857ab3b9c5c2"
   },
   "outputs": [
    {
     "data": {
      "image/png": "[encoded data removed]",
      "text/plain": [
       "<Figure size 432x288 with 1 Axes>"
      ]
     },
     "metadata": {
      "tags": []
     },
     "output_type": "display_data"
    }
   ],
   "source": [
    "# Customizando gráfico de pizza\n",
    "vendas = [3000, 2300, 1000, 500]\n",
    "labels = ['E-commerce', 'Loja Física', 'e-mail', 'Marketplace']\n",
    "\n",
    "# define o nível de separabilidade entre as partes, ordem do vetor representa as partes\n",
    "#foco na maior parte\n",
    "explode = (0.1, 0, 0, 0) \n",
    "\n",
    "#autopct = casas decimais\n",
    "plt.pie(vendas, labels=labels, autopct='%1.1f%%', shadow=True, explode=explode)\n",
    "plt.legend(labels, loc=2)\n",
    "\n",
    "# define que o gráfico será plotado em circulo\n",
    "plt.axis('equal')\n",
    "\n",
    "plt.show()"
   ]
  },
  {
   "cell_type": "code",
   "execution_count": 22,
   "metadata": {
    "colab": {
     "base_uri": "https://localhost:8080/",
     "height": 352
    },
    "executionInfo": {
     "elapsed": 6927,
     "status": "ok",
     "timestamp": 1618113378589,
     "user": {
      "displayName": "Nathalia Monalisa",
      "photoUrl": "https://lh3.googleusercontent.com/a-/AOh14Gg4bRqN6u2OPtAsHW60Z2d5aHZuJjVQ0v7-RToEr-E=s64",
      "userId": "02164542156237380771"
     },
     "user_tz": 180
    },
    "id": "Ykb7qujTMyKB",
    "outputId": "bd0bf494-1c6e-49f6-d6fc-da637dc7435c"
   },
   "outputs": [
    {
     "data": {
      "text/plain": [
       "(array([ 7., 18., 39., 74., 96., 91., 76., 63., 25., 11.]),\n",
       " array([-2.4258352 , -1.95907948, -1.49232375, -1.02556803, -0.55881231,\n",
       "        -0.09205658,  0.37469914,  0.84145486,  1.30821059,  1.77496631,\n",
       "         2.24172203]),\n",
       " <a list of 10 Patch objects>)"
      ]
     },
     "execution_count": 22,
     "metadata": {
      "tags": []
     },
     "output_type": "execute_result"
    },
    {
     "data": {
      "image/png": "[encoded data removed]",
      "text/plain": [
       "<Figure size 432x288 with 1 Axes>"
      ]
     },
     "metadata": {
      "needs_background": "light",
      "tags": []
     },
     "output_type": "display_data"
    }
   ],
   "source": [
    "#Histogramas\n",
    "# criando conjunto de dados com distribuição normal\n",
    "import numpy as np\n",
    "d = np.random.normal(0, 1, size=500)\n",
    "plt.hist(d, bins=10,color='r')"
   ]
  },
  {
   "cell_type": "code",
   "execution_count": 23,
   "metadata": {
    "colab": {
     "base_uri": "https://localhost:8080/",
     "height": 336
    },
    "executionInfo": {
     "elapsed": 7133,
     "status": "ok",
     "timestamp": 1618113378800,
     "user": {
      "displayName": "Nathalia Monalisa",
      "photoUrl": "https://lh3.googleusercontent.com/a-/AOh14Gg4bRqN6u2OPtAsHW60Z2d5aHZuJjVQ0v7-RToEr-E=s64",
      "userId": "02164542156237380771"
     },
     "user_tz": 180
    },
    "id": "3p1-xdUZiNPg",
    "outputId": "aecb36c0-33c5-463f-a54d-7be5c9e6a86b"
   },
   "outputs": [
    {
     "data": {
      "text/plain": [
       "(<Figure size 432x288 with 2 Axes>,\n",
       " array([<matplotlib.axes._subplots.AxesSubplot object at 0x7f5e5d272110>,\n",
       "        <matplotlib.axes._subplots.AxesSubplot object at 0x7f5e5c81b190>],\n",
       "       dtype=object))"
      ]
     },
     "execution_count": 23,
     "metadata": {
      "tags": []
     },
     "output_type": "execute_result"
    },
    {
     "data": {
      "image/png": "[encoded data removed]",
      "text/plain": [
       "<Figure size 432x288 with 2 Axes>"
      ]
     },
     "metadata": {
      "needs_background": "light",
      "tags": []
     },
     "output_type": "display_data"
    }
   ],
   "source": [
    "######################\n",
    "## CRIANDO SUBPLOTS ##\n",
    "######################\n",
    "\n",
    "#criar estrutura particionada do gráfico\n",
    "plt.subplots(nrows=1, ncols=2)"
   ]
  },
  {
   "cell_type": "code",
   "execution_count": 24,
   "metadata": {
    "colab": {
     "base_uri": "https://localhost:8080/",
     "height": 282
    },
    "executionInfo": {
     "elapsed": 7485,
     "status": "ok",
     "timestamp": 1618113379157,
     "user": {
      "displayName": "Nathalia Monalisa",
      "photoUrl": "https://lh3.googleusercontent.com/a-/AOh14Gg4bRqN6u2OPtAsHW60Z2d5aHZuJjVQ0v7-RToEr-E=s64",
      "userId": "02164542156237380771"
     },
     "user_tz": 180
    },
    "id": "C_UQ7rM9idCw",
    "outputId": "40101763-6e06-4e5a-ba2b-998e93a14691"
   },
   "outputs": [
    {
     "data": {
      "text/plain": [
       "[<matplotlib.lines.Line2D at 0x7f5e5c7140d0>]"
      ]
     },
     "execution_count": 24,
     "metadata": {
      "tags": []
     },
     "output_type": "execute_result"
    },
    {
     "data": {
      "image/png": "[encoded data removed]",
      "text/plain": [
       "<Figure size 432x288 with 2 Axes>"
      ]
     },
     "metadata": {
      "needs_background": "light",
      "tags": []
     },
     "output_type": "display_data"
    }
   ],
   "source": [
    "#Para acessar suplots especificos no plot, usa-se o método subplot (no singular)\n",
    "#subplot(nrows, ncols, index)\n",
    "x = [1,2,3,4]\n",
    "y = [10,20,25,40]\n",
    "\n",
    "plt.subplot(1,2,1) \n",
    "plt.plot(x,y, 'o')\n",
    "\n",
    "plt.subplot(1,2,2)\n",
    "plt.plot(x,y, color='r')"
   ]
  },
  {
   "cell_type": "code",
   "execution_count": 25,
   "metadata": {
    "colab": {
     "base_uri": "https://localhost:8080/",
     "height": 295
    },
    "executionInfo": {
     "elapsed": 7846,
     "status": "ok",
     "timestamp": 1618113379522,
     "user": {
      "displayName": "Nathalia Monalisa",
      "photoUrl": "https://lh3.googleusercontent.com/a-/AOh14Gg4bRqN6u2OPtAsHW60Z2d5aHZuJjVQ0v7-RToEr-E=s64",
      "userId": "02164542156237380771"
     },
     "user_tz": 180
    },
    "id": "wWtNGsBDi2ML",
    "outputId": "a7d904d2-32f4-4fec-f072-30fd2035dcc1"
   },
   "outputs": [
    {
     "data": {
      "text/plain": [
       "[<matplotlib.lines.Line2D at 0x7f5e5c6a5710>]"
      ]
     },
     "execution_count": 25,
     "metadata": {
      "tags": []
     },
     "output_type": "execute_result"
    },
    {
     "data": {
      "image/png": "[encoded data removed]",
      "text/plain": [
       "<Figure size 432x288 with 1 Axes>"
      ]
     },
     "metadata": {
      "needs_background": "light",
      "tags": []
     },
     "output_type": "display_data"
    }
   ],
   "source": [
    "####################\n",
    "## classes figure ##\n",
    "####################\n",
    "\n",
    "#Aumenta o controle do nível de customização das funções do Matplotlib.\n",
    "#Gera menos código devido a orientação a objetos\n",
    "#o seu gráfico é uma instância da classe figure\n",
    "#cada subplot (gráfico) da figure recebe o nome de eixo\n",
    "\n",
    "# Cria um objeto do tipo figure\n",
    "fig = plt.figure()\n",
    "\n",
    "# adicionar eixos (gráficos) na figura\n",
    "# medidas de tamanho do gráfico: distância das arestas ao eixo\n",
    "#não entendi\n",
    "axes1 = fig.add_axes([0.1,0.1,0.8,0.8])\n",
    "\n",
    "\n",
    "#criar eixo usando os métodos tradicionais de gráfico\n",
    "x = [1,2,3,4]\n",
    "y = [10,20,25,40]\n",
    "\n",
    "axes1.plot(x,y)"
   ]
  },
  {
   "cell_type": "code",
   "execution_count": 26,
   "metadata": {
    "colab": {
     "base_uri": "https://localhost:8080/",
     "height": 295
    },
    "executionInfo": {
     "elapsed": 8090,
     "status": "ok",
     "timestamp": 1618113379771,
     "user": {
      "displayName": "Nathalia Monalisa",
      "photoUrl": "https://lh3.googleusercontent.com/a-/AOh14Gg4bRqN6u2OPtAsHW60Z2d5aHZuJjVQ0v7-RToEr-E=s64",
      "userId": "02164542156237380771"
     },
     "user_tz": 180
    },
    "id": "F_P1IflsjLUY",
    "outputId": "fd5e69cb-22be-4e2d-a3e9-f8dd67769c9d"
   },
   "outputs": [
    {
     "data": {
      "text/plain": [
       "[<matplotlib.lines.Line2D at 0x7f5e5c5d0b90>]"
      ]
     },
     "execution_count": 26,
     "metadata": {
      "tags": []
     },
     "output_type": "execute_result"
    },
    {
     "data": {
      "image/png": "[encoded data removed]",
      "text/plain": [
       "<Figure size 432x288 with 2 Axes>"
      ]
     },
     "metadata": {
      "needs_background": "light",
      "tags": []
     },
     "output_type": "display_data"
    }
   ],
   "source": [
    "#Criando mais eixos (subplots)\n",
    "fig = plt.figure()\n",
    "axes1 = fig.add_axes([0.1,0.1,0.8,0.8])\n",
    "axes2 = fig.add_axes([0.2, 0.5, 0.3, 0.3])\n",
    "\n",
    "# Plota a figura com dois eixos\n",
    "axes1.plot(x,y)\n",
    "axes2.plot(x,y,'r--')"
   ]
  },
  {
   "cell_type": "code",
   "execution_count": 27,
   "metadata": {
    "colab": {
     "base_uri": "https://localhost:8080/",
     "height": 337
    },
    "executionInfo": {
     "elapsed": 8488,
     "status": "ok",
     "timestamp": 1618113380173,
     "user": {
      "displayName": "Nathalia Monalisa",
      "photoUrl": "https://lh3.googleusercontent.com/a-/AOh14Gg4bRqN6u2OPtAsHW60Z2d5aHZuJjVQ0v7-RToEr-E=s64",
      "userId": "02164542156237380771"
     },
     "user_tz": 180
    },
    "id": "lV5lMH_ojaUc",
    "outputId": "2f71c3f8-1eea-40fa-82c0-11c376a8f0d6"
   },
   "outputs": [
    {
     "data": {
      "text/plain": [
       "[<matplotlib.lines.Line2D at 0x7f5e5c561410>]"
      ]
     },
     "execution_count": 27,
     "metadata": {
      "tags": []
     },
     "output_type": "execute_result"
    },
    {
     "data": {
      "image/png": "[encoded data removed]",
      "text/plain": [
       "<Figure size 1440x360 with 1 Axes>"
      ]
     },
     "metadata": {
      "needs_background": "light",
      "tags": []
     },
     "output_type": "display_data"
    }
   ],
   "source": [
    "# Subplots como figuras: maior controle e menos código!\n",
    "#ajustando o tamanho da fogura para acomodar melhor os eixos\n",
    "#figsize(width, height)\n",
    "x = [1,2,3,4]\n",
    "y = [10,20,25,40]\n",
    "\n",
    "# atribuição das var: fig está criando a instância da figura\n",
    "# e ax está guardando o subplot\n",
    "# não entendi direito\n",
    "fig, ax = plt.subplots(figsize=(20,5))\n",
    "ax.plot(x,y, 'r--')"
   ]
  },
  {
   "cell_type": "code",
   "execution_count": 28,
   "metadata": {
    "colab": {
     "base_uri": "https://localhost:8080/",
     "height": 350
    },
    "executionInfo": {
     "elapsed": 9104,
     "status": "ok",
     "timestamp": 1618113380795,
     "user": {
      "displayName": "Nathalia Monalisa",
      "photoUrl": "https://lh3.googleusercontent.com/a-/AOh14Gg4bRqN6u2OPtAsHW60Z2d5aHZuJjVQ0v7-RToEr-E=s64",
      "userId": "02164542156237380771"
     },
     "user_tz": 180
    },
    "id": "6TYRxkcQjwAY",
    "outputId": "7090b2cb-1b97-4a4b-ea23-870df8b7cd14"
   },
   "outputs": [
    {
     "data": {
      "image/png": "[encoded data removed]",
      "text/plain": [
       "<Figure size 720x360 with 2 Axes>"
      ]
     },
     "metadata": {
      "needs_background": "light",
      "tags": []
     },
     "output_type": "display_data"
    }
   ],
   "source": [
    "#dois gráficos na mesma figura\n",
    "# método subplots está criando 2 suplots\n",
    "# e depois guarda cada subplot nos ax na tupla (ax1,ax2)\n",
    "# e var está recebendo a instancia da figura\n",
    "fig, (ax1, ax2) = plt.subplots(1, 2, figsize=(10,5))\n",
    "\n",
    "# Dados para cada subplot: tipos de gráficos podem ser diferentes\n",
    "ax1.bar([1,2,3],[3,4,5], color='#00BFFF')\n",
    "ax2.barh([0.5,1,2.5],[0,1,2], color='#00FF00')\n",
    "\n",
    "#definindo configurações com método set()\n",
    "ax1.set(title=\"Gráfico de Barras Verticais\", xlabel=\"Eixo x\", ylabel=\" Eixo y\")\n",
    "ax2.set(title=\"Gráfico de Barras Horizontais\", xlabel=\"Eixo x\", ylabel=\"Eixo y\")\n",
    "plt.show()"
   ]
  },
  {
   "cell_type": "code",
   "execution_count": 29,
   "metadata": {
    "executionInfo": {
     "elapsed": 9101,
     "status": "ok",
     "timestamp": 1618113380797,
     "user": {
      "displayName": "Nathalia Monalisa",
      "photoUrl": "https://lh3.googleusercontent.com/a-/AOh14Gg4bRqN6u2OPtAsHW60Z2d5aHZuJjVQ0v7-RToEr-E=s64",
      "userId": "02164542156237380771"
     },
     "user_tz": 180
    },
    "id": "-_BFAvB0s2Yb"
   },
   "outputs": [],
   "source": [
    "#Adicionando texto em gráficos\n",
    "import numpy as np\n",
    "plt.style.use(\"ggplot\")"
   ]
  },
  {
   "cell_type": "code",
   "execution_count": 30,
   "metadata": {
    "colab": {
     "base_uri": "https://localhost:8080/",
     "height": 300
    },
    "executionInfo": {
     "elapsed": 9897,
     "status": "ok",
     "timestamp": 1618113381597,
     "user": {
      "displayName": "Nathalia Monalisa",
      "photoUrl": "https://lh3.googleusercontent.com/a-/AOh14Gg4bRqN6u2OPtAsHW60Z2d5aHZuJjVQ0v7-RToEr-E=s64",
      "userId": "02164542156237380771"
     },
     "user_tz": 180
    },
    "id": "_p-NvNwoj6za",
    "outputId": "c7273b09-4ace-4bb2-9803-49dc4db11afc"
   },
   "outputs": [
    {
     "data": {
      "image/png": "[encoded data removed]",
      "text/plain": [
       "<Figure size 432x288 with 1 Axes>"
      ]
     },
     "metadata": {
      "tags": []
     },
     "output_type": "display_data"
    }
   ],
   "source": [
    "# 100 valores no intervalo de 0 a 2.\n",
    "x = np.linspace(0, 2, num=100)\n",
    "\n",
    "# define a legenda e tamanho de linhas\n",
    "plt.plot(x, x, label='linear')\n",
    "plt.plot(x, x**2, label='quadratico', linewidth=4)\n",
    "\n",
    "plt.xlabel('x label')\n",
    "plt.ylabel('y label')\n",
    "\n",
    "plt.title(\"Gráfico de Linhas Simples\")\n",
    "\n",
    "# Exibe a legenda e por padrão usa o label de cada plot.\n",
    "plt.legend()\n",
    "\n",
    "# Configurações do texto\n",
    "plt.text(0.95, 1, \"Cruzamento das Linhas\", fontsize=12, horizontalalignment='right')\n",
    "\n",
    "plt.show()\n"
   ]
  },
  {
   "cell_type": "code",
   "execution_count": 31,
   "metadata": {
    "colab": {
     "base_uri": "https://localhost:8080/",
     "height": 282
    },
    "executionInfo": {
     "elapsed": 9894,
     "status": "ok",
     "timestamp": 1618113381599,
     "user": {
      "displayName": "Nathalia Monalisa",
      "photoUrl": "https://lh3.googleusercontent.com/a-/AOh14Gg4bRqN6u2OPtAsHW60Z2d5aHZuJjVQ0v7-RToEr-E=s64",
      "userId": "02164542156237380771"
     },
     "user_tz": 180
    },
    "id": "fPuG-oJrlQJ3",
    "outputId": "3dfc414d-76da-4925-d739-dea1c3c817f0"
   },
   "outputs": [
    {
     "data": {
      "image/png": "[encoded data removed]",
      "text/plain": [
       "<Figure size 432x288 with 1 Axes>"
      ]
     },
     "metadata": {
      "tags": []
     },
     "output_type": "display_data"
    }
   ],
   "source": [
    "# O Matplotlib trabalha bem com o Pandas (que fornece dataframes)\n",
    "# É possível usar recursos de dataframes nos graficos do matplotlib usando o parâmetro data.\n",
    "# por exemplo, usar nome das colunas como x e y\n",
    "import pandas as pd\n",
    "\n",
    "#criando dicionário\n",
    "data = {'a': np.arange(50),\n",
    "        'c': np.random.randint(0, 50, 50),\n",
    "        'd': np.random.randn(50)\n",
    "       }\n",
    "\n",
    "#transformando em dataframe\n",
    "data = pd.DataFrame(data)\n",
    "data\n",
    "\n",
    "#dados aleatorios para cols b e d\n",
    "data['b'] = data['a'] + 10 * np.random.randn(50)\n",
    "data['d'] = np.abs(data['d']) * 200\n",
    "data.head()\n",
    "\n",
    "#gráfico de bolhas\n",
    "plt.scatter('a', 'b', c='c', s='d', data=data)\n",
    "plt.xlabel('entry a')\n",
    "plt.ylabel('entry b')\n",
    "plt.show()"
   ]
  }
 ],
 "metadata": {
  "colab": {
   "authorship_tag": "ABX9TyPem/wJgc5nJ4gruXW0genb",
   "collapsed_sections": [],
   "mount_file_id": "1LMigESjdIrvRsFv8SkoWBoo7X6qTMQwf",
   "name": "visualizacao_matplotilib_pyplot.ipynb",
   "provenance": []
  },
  "kernelspec": {
   "display_name": "Python 3",
   "language": "python",
   "name": "python3"
  },
  "language_info": {
   "codemirror_mode": {
    "name": "ipython",
    "version": 3
   },
   "file_extension": ".py",
   "mimetype": "text/x-python",
   "name": "python",
   "nbconvert_exporter": "python",
   "pygments_lexer": "ipython3",
   "version": "3.8.8"
  }
 },
 "nbformat": 4,
 "nbformat_minor": 1
}
